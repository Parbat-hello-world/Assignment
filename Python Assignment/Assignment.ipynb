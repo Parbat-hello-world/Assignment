{
 "cells": [
  {
   "cell_type": "markdown",
   "metadata": {},
   "source": [
    "# Section One: Conditional Statement"
   ]
  },
  {
   "cell_type": "code",
   "execution_count": null,
   "metadata": {},
   "outputs": [
    {
     "name": "stdout",
     "output_type": "stream",
     "text": [
      "The given number is even.\n"
     ]
    }
   ],
   "source": [
    "# 1. Write a program that asks the user to enter a number and checks whether the number is even or odd.\n",
    "\n",
    "num = int(input(\"Enter any number: \"))\n",
    "\n",
    "if num % 2 == 0:\n",
    "    print(\"The given number is even.\")\n",
    "\n",
    "else:\n",
    "    print(\"The given number is odd.\")"
   ]
  },
  {
   "cell_type": "code",
   "execution_count": 76,
   "metadata": {},
   "outputs": [
    {
     "name": "stdout",
     "output_type": "stream",
     "text": [
      "The given number is positive number.\n"
     ]
    }
   ],
   "source": [
    "# 2. Write a program that asks the user to enter a number and checks whether it is positive, negative or zero.\n",
    "\n",
    "num = float(input(\"Enter any number: \"))\n",
    "\n",
    "if num > 0:\n",
    "    print(\"The given number is positive number.\")\n",
    "\n",
    "elif num < 0:\n",
    "    print(\"The given number is negative number.\")\n",
    "\n",
    "else:\n",
    "    print(\"The given number is zero.\")"
   ]
  },
  {
   "cell_type": "code",
   "execution_count": 77,
   "metadata": {},
   "outputs": [
    {
     "name": "stdout",
     "output_type": "stream",
     "text": [
      "You are not eligible to vote.\n"
     ]
    }
   ],
   "source": [
    "# 3. Write a program that asks the user to enter their age and checks if they are eligible to vote (18 years or older).\n",
    "\n",
    "age = int(input(\"Enter your age: \"))\n",
    "\n",
    "if age >= 18:\n",
    "    print(\"You are eligible to vote.\")\n",
    "\n",
    "else:\n",
    "    print(\"You are not eligible to vote.\")"
   ]
  },
  {
   "cell_type": "code",
   "execution_count": 1,
   "metadata": {},
   "outputs": [
    {
     "name": "stdout",
     "output_type": "stream",
     "text": [
      "The given triangle is a Scalene triangle.\n"
     ]
    }
   ],
   "source": [
    "'''\n",
    "4. Write a program that takes the lengths of three sides of a triangle as input and determines if the triangle is:\n",
    "- Equilateral (all sides are equal)\n",
    "- Isosceles (two sides are equal)\n",
    "- Scalene (all sides are different)\n",
    "'''\n",
    "\n",
    "a = float(input(\"Enter the length of the first side of the triangle: \"))\n",
    "b = float(input(\"Enter the length of the second side of the triangle: \"))\n",
    "c = float(input(\"Enter the length of the third side of the triangle: \"))\n",
    "\n",
    "if a == b == c:\n",
    "    print(\"The given triangle is an Equilateral triangle.\")\n",
    "\n",
    "elif (a == b) or (b == c) or (c == a):\n",
    "    print(\"The given triangle is an Isosceles triangle.\")\n",
    "\n",
    "else:\n",
    "    print(\"The given triangle is a Scalene triangle.\")\n",
    "\n"
   ]
  },
  {
   "cell_type": "code",
   "execution_count": null,
   "metadata": {},
   "outputs": [
    {
     "name": "stdout",
     "output_type": "stream",
     "text": [
      "Access granted. Password Matched \n"
     ]
    }
   ],
   "source": [
    "# 5. Write a program that ask the user to enter a password and checs if matches a prefined password. (e.g., \"Python123\").\n",
    "\n",
    "defined_password = 'Python123'\n",
    "password = input(\"Enter a password: \")\n",
    "\n",
    "if password == defined_password:\n",
    "    print(\"Access granted. Password Matched \")\n",
    "\n",
    "else:\n",
    "    print(\"Access denied. Incorrect Password. \")"
   ]
  },
  {
   "cell_type": "markdown",
   "metadata": {},
   "source": [
    "# Section Two: For Loops"
   ]
  },
  {
   "cell_type": "code",
   "execution_count": 31,
   "metadata": {},
   "outputs": [
    {
     "name": "stdout",
     "output_type": "stream",
     "text": [
      "8 * 1 = 8\n",
      "8 * 2 = 16\n",
      "8 * 3 = 24\n",
      "8 * 4 = 32\n",
      "8 * 5 = 40\n",
      "8 * 6 = 48\n",
      "8 * 7 = 56\n",
      "8 * 8 = 64\n",
      "8 * 9 = 72\n",
      "8 * 10 = 80\n"
     ]
    }
   ],
   "source": [
    "# 6. Multiplication Table: Write a Python program to print the multiplication table of a given number using a for loop.\n",
    "\n",
    "num = int(input(\"Enter a number: \"))\n",
    "\n",
    "for i in range(1, 11):\n",
    "    print(num, \"*\", i, \"=\", num*i)"
   ]
  },
  {
   "cell_type": "code",
   "execution_count": null,
   "metadata": {},
   "outputs": [
    {
     "name": "stdout",
     "output_type": "stream",
     "text": [
      "The total number of vowels in the word 'google' is 3 .\n"
     ]
    }
   ],
   "source": [
    "# 7. Count vowels: Write a program to count and display the number of vowels in a given string.\n",
    "\n",
    "word = input(\"Enter any word: \")\n",
    "\n",
    "# Define a set of vowels \n",
    "vowels = \"aeiouAEIOU\"\n",
    "\n",
    "count = 0\n",
    "\n",
    "# Loop through every character in the input word\n",
    "for char in word:\n",
    "    if char in vowels:  # Check if the character is a vowel\n",
    "        count += 1\n",
    "\n",
    "print(\"The total number of vowels in the word\", \"'\"+ word+ \"'\", \"is\", count, \".\")\n"
   ]
  },
  {
   "cell_type": "code",
   "execution_count": 41,
   "metadata": {},
   "outputs": [
    {
     "name": "stdout",
     "output_type": "stream",
     "text": [
      "The sum of Even number in given list is 20\n"
     ]
    }
   ],
   "source": [
    "# 8. Sum of Even Numbers \n",
    "#    Create a program to find the sum of all even numbers in a list using a for loop\n",
    " \n",
    "list_numbers = [1, 2, 3, 4, 5, 6, 7, 8, 9]\n",
    "\n",
    "sum_even = 0\n",
    "\n",
    "# loop through every number in the list_number.\n",
    "for num in list_numbers:\n",
    "    if num % 2 == 0:\n",
    "        sum_even += num\n",
    "\n",
    "print(\"The sum of Even number in given list is\", sum_even)\n",
    "\n"
   ]
  },
  {
   "cell_type": "code",
   "execution_count": 51,
   "metadata": {},
   "outputs": [
    {
     "name": "stdout",
     "output_type": "stream",
     "text": [
      "Largest number:  77\n",
      "Smallest number:  10\n"
     ]
    }
   ],
   "source": [
    "# 9. Create a program to find the largest and smallest numbers in a list using a for loop.\n",
    "\n",
    "list_numbers = [30, 23, 11, 10, 69, 77, 34, 24]\n",
    "\n",
    "largest = list_numbers[0] # Initialize the largest to the first element of the list \n",
    "smallest = list_numbers[0] # Initialize the  smallest numbers to the first element of the list\n",
    "\n",
    "for num in list_numbers:\n",
    "    if num > largest: # Check if the current number is larger than the current largest number\n",
    "        largest = num\n",
    "\n",
    "    if num < smallest: # Check if the current number is smaller than the current smallest number\n",
    "        smallest = num\n",
    "\n",
    "print(\"Largest number: \", largest)\n",
    "print(\"Smallest number: \", smallest)"
   ]
  },
  {
   "cell_type": "code",
   "execution_count": null,
   "metadata": {},
   "outputs": [
    {
     "name": "stdout",
     "output_type": "stream",
     "text": [
      "The sum of digits of a given number '12345' is:  15 .\n"
     ]
    }
   ],
   "source": [
    "# 10. Write a program to calculate the sum of digits of a given number using a for loop.\n",
    "\n",
    "number = input(\"Enter any multi-digit number: \")\n",
    "\n",
    "sum_number = 0\n",
    "\n",
    "for digit in number:\n",
    "    sum_number += int(digit)# Add the integer value of the digit to the sum\n",
    "\n",
    "print(\"The sum of digits of a given number\", \"'\"+number+\"' is: \", sum_number, \".\")"
   ]
  },
  {
   "cell_type": "code",
   "execution_count": null,
   "metadata": {},
   "outputs": [
    {
     "name": "stdout",
     "output_type": "stream",
     "text": [
      "Reversed of given word 'parbat' is: tabrap\n"
     ]
    }
   ],
   "source": [
    "# Write a program to reverse a given string using a for loop.\n",
    "\n",
    "word = input(\"Enter any word: \")\n",
    "\n",
    "reversed_word = \"\"\n",
    "\n",
    "for char in word:\n",
    "    reversed_word = char + reversed_word\n",
    "\n",
    "print(\"Reversed of given word\", \"'\"+word+\"'\", \"is:\", reversed_word)\n"
   ]
  },
  {
   "cell_type": "markdown",
   "metadata": {},
   "source": [
    "# Section Three: Function"
   ]
  },
  {
   "cell_type": "code",
   "execution_count": 80,
   "metadata": {},
   "outputs": [
    {
     "name": "stdout",
     "output_type": "stream",
     "text": [
      "Factorial of give number 5 is 120\n"
     ]
    }
   ],
   "source": [
    "# 1. Factorial Function: Write a function factorial(n) that returns the factorial of a number using a for loop.\n",
    "\n",
    "def factorial(n):\n",
    "    fact = 1 # initalize \n",
    "    for i in range(1, n+1): \n",
    "        fact *= i\n",
    "    return fact\n",
    "\n",
    "num = int(input(\"Enter a number: \"))\n",
    "result = factorial(num) # call the factorial function\n",
    "print(f\"Factorial of give number {num} is {result}\")"
   ]
  },
  {
   "cell_type": "code",
   "execution_count": null,
   "metadata": {},
   "outputs": [
    {
     "name": "stdout",
     "output_type": "stream",
     "text": [
      "Given number 8 is not a prime.\n"
     ]
    }
   ],
   "source": [
    "# Prime Check Function: \n",
    "#  Create a function is_prime(n) to check whether a number is prime.\n",
    "\n",
    "def is_prime(n):\n",
    "    if n <= 1:\n",
    "        return \"not prime\"\n",
    "    else: \n",
    "        for i in range(2, n+1):\n",
    "            if n % i == 0: # if n is divisible by i, it is not a prime number\n",
    "                return \"not a prime\"\n",
    "            else:  # if n is not divisible by i, it is prime number\n",
    "                return \"a prime\"\n",
    "\n",
    "num = int(input(\"Enter any postive number: \"))\n",
    "result = is_prime(num) # calling function\n",
    "print(f\"Given number {num} is {result}.\")    "
   ]
  },
  {
   "cell_type": "code",
   "execution_count": 100,
   "metadata": {},
   "outputs": [
    {
     "name": "stdout",
     "output_type": "stream",
     "text": [
      "Maximum value in list:  77\n"
     ]
    }
   ],
   "source": [
    "# Find Maximum in List:\n",
    "# Write a function find_max(lst) to find and return the maximum value in a list.\n",
    "\n",
    "def find_max(lst):\n",
    "    max_value = lst[0] # initilize max_value with first element in the list\n",
    "\n",
    "    for num in lst: # loop through every element in the list\n",
    "        if num > max_value: # comparing every element with max_ value\n",
    "            max_value = num\n",
    "\n",
    "    return max_value \n",
    "    \n",
    "\n",
    "list_value = [30, 23, 77, 69, 15, 10 ,11]\n",
    "result = find_max(list_value) # call the function and store result\n",
    "print(\"Maximum value in list: \", result) # print result"
   ]
  },
  {
   "cell_type": "code",
   "execution_count": 116,
   "metadata": {},
   "outputs": [
    {
     "name": "stdout",
     "output_type": "stream",
     "text": [
      "Given word 'Madam' is Palindrome: True\n"
     ]
    }
   ],
   "source": [
    "# 4. Write a function palindrome_check(string) that returns True if the given string is a palindrome, otherwise False.\n",
    "\n",
    "def palindrome_check(string):\n",
    "    string = string.casefold()  # Normalize the string to lowercase for case-insensitivity. # This converts the string to lowercase \n",
    "    if list(string) == list(reversed(string)): # converting into list to compare each element\n",
    "        return True\n",
    "    else: \n",
    "        return False\n",
    "    \n",
    "word = input(\"Enter any word or a string: \")\n",
    "result = palindrome_check(word)\n",
    "print(f\"Given word '{word}' is Palindrome: {result}\")\n"
   ]
  },
  {
   "cell_type": "code",
   "execution_count": null,
   "metadata": {},
   "outputs": [
    {
     "name": "stdout",
     "output_type": "stream",
     "text": [
      "Sum fo the first 6 natural number is: 91\n"
     ]
    }
   ],
   "source": [
    "# 5. Write a function sum_of_squares(n) that returns the sum of squares of the first n natural numbers.\n",
    "\n",
    "def sum_of_squares(n):\n",
    "    sum = 0 # intilize the sum with the value 0\n",
    "    for i in range (1, n+1): \n",
    "        sum += i**2 # adding the square of number in sum value.\n",
    "    return sum\n",
    "\n",
    "num = int(input(\"Enter any number: \"))\n",
    "result = sum_of_squares(num)\n",
    "print(f\"Sum fo the first {num} natural number is: {result}\")"
   ]
  },
  {
   "cell_type": "markdown",
   "metadata": {},
   "source": [
    "# Section Four: Classes"
   ]
  },
  {
   "cell_type": "code",
   "execution_count": 6,
   "metadata": {},
   "outputs": [
    {
     "name": "stdout",
     "output_type": "stream",
     "text": [
      "Area of given rectangle is 40 sq unit.\n",
      "Perimeter of recatangle is 26 unit.\n"
     ]
    }
   ],
   "source": [
    "''' 1. Rectangle Class:Define a class Rectangle with:\n",
    "○ Two attributes: length and width.\n",
    "○ A method area() to calculate the area.\n",
    "○ A method perimeter() to calculate the perimeter. '''\n",
    "\n",
    "class Rectangle:\n",
    "    def put(self):\n",
    "        self.length = int(input(\"Enter length of rectangle: \"))\n",
    "        self.width = int(input('Enter the width of rectangle: '))\n",
    "\n",
    "    def area(self):\n",
    "        print(f\"Area of given rectangle is {self.length * self.width} sq unit.\")\n",
    "\n",
    "    def perimeter(self):\n",
    "        print(f\"Perimeter of recatangle is {2 * (self.length + self.width)} unit.\")\n",
    "\n",
    "\n",
    "rect1 = Rectangle()\n",
    "rect1.put()\n",
    "rect1.area()\n",
    "rect1.perimeter()\n"
   ]
  },
  {
   "cell_type": "code",
   "execution_count": 15,
   "metadata": {},
   "outputs": [
    {
     "name": "stdout",
     "output_type": "stream",
     "text": [
      "Name: Parbat\n",
      "Roll_number: 30\n",
      "Marks: 44, You passed the exam.\n"
     ]
    }
   ],
   "source": [
    "''' 2. Student Class: Create a class Student with:\n",
    "○ Attributes: name, roll_number, and marks.\n",
    "○ A method display_details() to print the student's details.\n",
    "○ A method is_passed() that returns True if marks ≥ 40, else\n",
    "False. '''\n",
    "\n",
    "class student:\n",
    "    def __init__(self):\n",
    "        self.name = input(\"Enter your name: \")\n",
    "        self.roll_number = input(\"Enter your roll_number: \")\n",
    "        self.marks = int(input(\"Enter your marks: \"))\n",
    "\n",
    "    def display_details(self):\n",
    "        print(f\"Name: {self.name}\")\n",
    "        print(f\"Roll_number: {self.roll_number}\")\n",
    "\n",
    "    def is_passed(self):\n",
    "        if self.marks >= 40:\n",
    "            print(f\"Marks: {self.marks}, You passed the exam.\")\n",
    "\n",
    "        else:\n",
    "            print(f\"Marks: {self.marks}, You failed the exam\")\n",
    "\n",
    "std1 = student()\n",
    "std1.display_details()\n",
    "std1.is_passed()\n"
   ]
  },
  {
   "cell_type": "code",
   "execution_count": 18,
   "metadata": {},
   "outputs": [
    {
     "name": "stdout",
     "output_type": "stream",
     "text": [
      "Area: 153.86 sq unit\n",
      "Circumerence: 43.96 unit\n"
     ]
    }
   ],
   "source": [
    "''' 3. Define a class Circle with:\n",
    "● Attribute: radius.\n",
    "● Methods: area() to calculate the area, circumference() to\n",
    "calculate the circumference. ''' \n",
    "\n",
    "class circle:\n",
    "    def __init__(self):\n",
    "        self.radius = int(input(\"Enter radius of Circle: \"))\n",
    "        self.pi = 3.14\n",
    "\n",
    "    def area(self):\n",
    "        self.Area = self.pi * self.radius ** 2\n",
    "        print(f\"Area: {self.Area} sq unit\")\n",
    "\n",
    "    def circumference(self):\n",
    "        self.Circumference = 2 * self.pi * self.radius\n",
    "        print(f\"Circumerence: {self.Circumference} unit\")\n",
    "\n",
    "circle1 = circle()\n",
    "circle1.area()\n",
    "circle1.circumference()\n",
    "        "
   ]
  },
  {
   "cell_type": "code",
   "execution_count": 10,
   "metadata": {},
   "outputs": [
    {
     "name": "stdout",
     "output_type": "stream",
     "text": [
      "Account Number: 12345\n",
      "Account Holder: Parbat Magar\n",
      "Account Balance: 40000\n",
      "Deposited amount: 5000, New Balance: 45000\n",
      "Withdraw amount: 3000, Remaining Balance: 42000\n",
      "Current Balance: 42000\n"
     ]
    }
   ],
   "source": [
    "''' 4. Create a class BankAccount with:\n",
    "● Attributes: account_number, account_holder, balance.\n",
    "● Methods:\n",
    "○ deposit(amount) to add money to the account.\n",
    "○ withdraw(amount) to subtract money (if sufficient\n",
    "balance is available).\n",
    "○ display_balance() to print the current balance. '''\n",
    "\n",
    "class BankAccount:\n",
    "    def __init__(self, account_number, account_holder, balance):\n",
    "        self.account_number = account_number\n",
    "        self.account_holder = account_holder\n",
    "        self.balance = balance \n",
    "        print(f\"Account Number: {self.account_number}\")\n",
    "        print(f\"Account Holder: {self.account_holder}\")\n",
    "        print(f\"Account Balance: {self.balance}\")\n",
    "    \n",
    "    def deposit(self, amount):\n",
    "        if amount < 0: # amount must not be in negative\n",
    "            print(\"Deposit amount should be in positive.\")\n",
    "        else:\n",
    "            self.balance += amount # adding deposit amount with balance\n",
    "            print(f\"Deposited amount: {amount}, New Balance: {self.balance}\")\n",
    "\n",
    "    def withdraw(self, amount): \n",
    "        if amount > self.balance: # withdraw must not be more than balance\n",
    "            print(\"Insufficent balance.\")\n",
    "        else: \n",
    "            self.balance -= amount # reducing withdraw amount\n",
    "            print(f\"Withdraw amount: {amount}, Remaining Balance: {self.balance}\")\n",
    "\n",
    "    def display_balance(self):\n",
    "        print(f\"Current Balance: {self.balance}\") # printitng current amount\n",
    "\n",
    "\n",
    "Account1 = BankAccount(12345, \"Parbat Magar\", 40000)\n",
    "Account1.deposit(5000)\n",
    "Account1.withdraw(3000)\n",
    "Account1.display_balance()\n",
    "\n",
    "        \n",
    "        "
   ]
  },
  {
   "cell_type": "code",
   "execution_count": 30,
   "metadata": {},
   "outputs": [
    {
     "name": "stdout",
     "output_type": "stream",
     "text": [
      "Book Title: Brief History of Time\n",
      "Book Author: Stephen Hawking\n",
      "Original Price: 500\n",
      "Discount: 50\n",
      "Price after discount: 450\n"
     ]
    }
   ],
   "source": [
    "''' 5. A class Book with:\n",
    "● Attributes: title, author, price.\n",
    "● Methods:\n",
    "○ apply_discount(discount) to reduce the price by a\n",
    "given percentage.\n",
    "○ display_details() to print the book details. '''\n",
    "\n",
    "class Book:\n",
    "    def __init__(self, title, author, price):\n",
    "        self.title = title\n",
    "        self.author = author\n",
    "        self.price = price  # Keep track of the original price\n",
    "        self.discount_price = price # For the discount\n",
    "        self.discount = 0  # Initialize discount to 0\n",
    "\n",
    "    def apply_discount(self, discount):\n",
    "        self.discount = discount\n",
    "        self.discount_price -= discount # here intial value of disount_price and price are same but price is saved to show orginal price.\n",
    "\n",
    "    def display_details(self):\n",
    "        print(f\"Book Title: {self.title}\")\n",
    "        print(f\"Book Author: {self.author}\")\n",
    "        print(f\"Original Price: {self.price}\")\n",
    "        print(f\"Discount: {self.discount}\")\n",
    "        print(f\"Price after discount: {self.discount_price}\")\n",
    "\n",
    "book1 = Book(\"Brief History of Time\", \"Stephen Hawking\", 500)\n",
    "book1.apply_discount(50)\n",
    "book1.display_details()\n"
   ]
  },
  {
   "cell_type": "code",
   "execution_count": 36,
   "metadata": {},
   "outputs": [
    {
     "name": "stdout",
     "output_type": "stream",
     "text": [
      "Addition: 15\n",
      "Subtraction: 15\n",
      "Multiplication: 250\n",
      "Division: 5.0\n"
     ]
    }
   ],
   "source": [
    "''' 6. Create a class Calculator with:\n",
    "○ A method add(a, b) to add two numbers.\n",
    "○ A method subtract(a, b) to subtract two numbers.\n",
    "○ A method multiply(a, b) to multiply two numbers.\n",
    "○ A method divide(a, b) to divide two numbers (handle division\n",
    "by zero gracefully '''\n",
    "\n",
    "class Calculator:\n",
    "    def add(self, a, b):\n",
    "        return a + b\n",
    "\n",
    "    def subtract(self, a, b):\n",
    "        return a - b\n",
    "\n",
    "    def multiply(self, a, b):\n",
    "        return a * b\n",
    "\n",
    "    def divide(self, a, b):\n",
    "        if b != 0:\n",
    "            return a / b\n",
    "        else:\n",
    "            return \"Cannot divide by zero!\"\n",
    "\n",
    "# Create an object\n",
    "calc = Calculator()\n",
    "\n",
    "print(\"Addition:\", calc.add(10, 5))\n",
    "print(\"Subtraction:\", calc.subtract(20, 5))\n",
    "print(\"Multiplication:\", calc.multiply(50, 5))\n",
    "print(\"Division:\", calc.divide(25, 5))\n",
    "\n"
   ]
  },
  {
   "cell_type": "code",
   "execution_count": 3,
   "metadata": {},
   "outputs": [],
   "source": [
    "''' 7. Write a class Person with:\n",
    "○ Attributes: name, age, gender.\n",
    "○ Method introduce() to print a message like: \"Hello, my name\n",
    "is [name], I am [age] years old, and I am a [gender].\"\n",
    "○ Create a subclass Employee that adds:\n",
    "■ Attribute: job_title.\n",
    "■ Override introduce() to include the job title. '''\n",
    "\n",
    "class Person: \n",
    "    def __init__(self, name, age, gender):\n",
    "        self.name = name\n",
    "        self.age = age\n",
    "        self.gender = gender\n",
    "\n",
    "    def introduce(self):\n",
    "        print(f\"Hello my name is {self.name}. I am {self.age}, and I am a {self.gender}.\")\n",
    "\n",
    "class Employee(Person):\n",
    "    def __init__(self, job_title):\n",
    "        super().__init__(job_title)"
   ]
  },
  {
   "cell_type": "markdown",
   "metadata": {},
   "source": [
    "# Section 5: File Handling"
   ]
  },
  {
   "cell_type": "code",
   "execution_count": 2,
   "metadata": {},
   "outputs": [
    {
     "name": "stdout",
     "output_type": "stream",
     "text": [
      "File contents:\n",
      "1\n",
      "2\n",
      "3\n",
      "4\n",
      "5\n",
      "6\n",
      "7\n",
      "8\n",
      "9\n",
      "10\n",
      "\n"
     ]
    }
   ],
   "source": [
    "''' 1. File Creation and Writing: Write a Python script to:\n",
    "○ Create a file named data.txt.\n",
    "○ Write the numbers from 1 to 10 (each on a new line) to the\n",
    "file.\n",
    "○ Read the file and print its contents. '''\n",
    "\n",
    "with open(\"data.txt\", \"w\") as file:\n",
    "    for number in range(1, 11):\n",
    "        file.write(f\"{number}\\n\")  \n",
    "\n",
    "\n",
    "with open(\"data.txt\", \"r\") as file:\n",
    "    contents = file.read()\n",
    "    print(\"File contents:\")\n",
    "    print(contents)"
   ]
  },
  {
   "cell_type": "code",
   "execution_count": 1,
   "metadata": {},
   "outputs": [
    {
     "name": "stdout",
     "output_type": "stream",
     "text": [
      "File content:\n",
      "Hello world this is a sample file. \n",
      "The number of words in 'sample.txt' is: 7\n"
     ]
    }
   ],
   "source": [
    "''' 2. Word Count in File: \n",
    "Write a program that reads a file named sample.txt, counts the number of words in it, and prints the result. '''\n",
    "\n",
    "words = [\"Hello\", \"world\", \"this\", \"is\", \"a\", \"sample\", \"file.\"]\n",
    "\n",
    "with open(\"sample.txt\", \"w\") as file:\n",
    "    for word in words:\n",
    "        file.write(f\"{word} \")  \n",
    "\n",
    "with open(\"sample.txt\", \"r\") as file:\n",
    "    content = file.read()\n",
    "    print(\"File content:\")\n",
    "    print(content)\n",
    "    word_count = len(content.split())\n",
    "    print(f\"The number of words in 'sample.txt' is: {word_count}\")"
   ]
  },
  {
   "cell_type": "markdown",
   "metadata": {},
   "source": [
    "# Section 6: Error handling"
   ]
  },
  {
   "cell_type": "code",
   "execution_count": 6,
   "metadata": {},
   "outputs": [
    {
     "name": "stdout",
     "output_type": "stream",
     "text": [
      "Error: Cannot divide by zero.\n"
     ]
    }
   ],
   "source": [
    "''' 1. Division with Error Handling: Write a program that takes two numbers as input and divides the first number by the second.\n",
    "○ Use try and except to handle the division by zero error. '''\n",
    "\n",
    "try:\n",
    "    num1 = int(input(\"Enter numerator: \"))\n",
    "    num2 = int(input(\"Enter denominator: \"))\n",
    "    result = num1 / num2\n",
    "    print(\"{num1} / {num2} = {result}\")\n",
    "\n",
    "except ZeroDivisionError:\n",
    "    print(\"Error: Cannot divide by zero.\")\n",
    "\n"
   ]
  },
  {
   "cell_type": "code",
   "execution_count": 7,
   "metadata": {},
   "outputs": [
    {
     "name": "stdout",
     "output_type": "stream",
     "text": [
      "Error: Invalid Value. Please enter a numeric value.\n"
     ]
    }
   ],
   "source": [
    "''' 2. Integer Input Validation: Create a program that asks the user to input an integer.\n",
    "○ Use try, except, and else to handle invalid input. '''\n",
    "\n",
    "try: \n",
    "    num = int(input(\"Enter a number: \"))\n",
    "    print(f\"Given number is {num}.\")\n",
    "\n",
    "except ValueError:\n",
    "    print(\"Error: Invalid Value. Please enter a numeric value.\")"
   ]
  },
  {
   "cell_type": "code",
   "execution_count": 5,
   "metadata": {},
   "outputs": [
    {
     "name": "stdout",
     "output_type": "stream",
     "text": [
      "Error: The file 'unknown.txt' was not found. Please ensure the file exists.\n"
     ]
    }
   ],
   "source": [
    "''' 3. File Not Found Error Handling: Write a script that:\n",
    "○ Opens a file named unknown.txt.\n",
    "○ Handles the FileNotFoundError gracefully and prints an\n",
    "appropriate message. '''\n",
    "\n",
    "try:\n",
    "    with open(\"unknown.txt\", \"r\") as file:\n",
    "        content = file.read()\n",
    "        print(\"File content:\")\n",
    "        print(content)\n",
    "except FileNotFoundError:\n",
    "    print(\"Error: The file 'unknown.txt' was not found. Please ensure the file exists.\")\n"
   ]
  }
 ],
 "metadata": {
  "kernelspec": {
   "display_name": "Python 3",
   "language": "python",
   "name": "python3"
  },
  "language_info": {
   "codemirror_mode": {
    "name": "ipython",
    "version": 3
   },
   "file_extension": ".py",
   "mimetype": "text/x-python",
   "name": "python",
   "nbconvert_exporter": "python",
   "pygments_lexer": "ipython3",
   "version": "3.13.0"
  }
 },
 "nbformat": 4,
 "nbformat_minor": 2
}
