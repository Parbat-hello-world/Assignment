{
 "cells": [
  {
   "cell_type": "markdown",
   "metadata": {},
   "source": [
    "# **1. Operators in Python**"
   ]
  },
  {
   "cell_type": "markdown",
   "metadata": {},
   "source": [
    "**1. What are the different Basic Data Types in Python?**<br>    \n",
    "Ans \n",
    "- **int =** Represent integers<br>     (e.g, 5, -10)\n",
    "- **float =** Represent decimal/ floating point number<br>     (e.g, 3.14, -6.67)\n",
    "- **str =** Represent sequence of character (string / word)<br>     (e.g, Parbat, Magar)\n",
    "- **bool =** Represent Boolean Types (*True* and *False*)\n",
    "- **NoneType =** Represent the absence of the value or a null value (None)\n",
    "- **list =** Represent order collection of items, which can be of mixed types.<br>     (e.g, [1, 2, 3], ['a', 9.8, 3.14])\n",
    "- **tuple =** Similar to list but immutable(*Object cannote be changed after created*)<br>     (e.g, (1, 2, 3))\n",
    "- **dict =** Represent key value Pairs<br>     (e.g, {\"Name\"=\"Parbat\", \"Roll no\"=15})\n",
    "- **set =** Represent unordered collection of uniqe items.<br>     (e.g, {1, 2, 3})"
   ]
  },
  {
   "cell_type": "markdown",
   "metadata": {},
   "source": [
    "**2. How do you declare variable name in Python? Provide an example.**<br>\n",
    "Declaring variables is straight forward. Simply assign a value to a variable name using the assignment operator.<br>\n",
    "**Syntax**<br>\n",
    "variable_name = value"
   ]
  },
  {
   "cell_type": "code",
   "execution_count": 1,
   "metadata": {},
   "outputs": [
    {
     "name": "stdout",
     "output_type": "stream",
     "text": [
      "Name : Parbat\n",
      "Roll No: 16\n",
      "Semester: 1st\n"
     ]
    }
   ],
   "source": [
    "Name = \"Parbat\"\n",
    "Roll_no= 16\n",
    "Semester = \"1st\"\n",
    "print(\"Name :\", Name)\n",
    "print(\"Roll No:\", Roll_no)\n",
    "print(\"Semester:\", Semester)"
   ]
  },
  {
   "cell_type": "markdown",
   "metadata": {},
   "source": [
    "**3. What will be the output of the following code?**\n",
    "\n",
    "        x = 5\n",
    "        y = 3.5\n",
    "        z = \"Hello\"\n",
    "        print(type(x), type(y), type(z))"
   ]
  },
  {
   "cell_type": "code",
   "execution_count": 2,
   "metadata": {},
   "outputs": [
    {
     "name": "stdout",
     "output_type": "stream",
     "text": [
      "<class 'int'> <class 'float'> <class 'str'>\n"
     ]
    }
   ],
   "source": [
    "x = 5\n",
    "y = 3.5\n",
    "z = \"Hello\"\n",
    "print(type(x), type(y), type(z))"
   ]
  },
  {
   "cell_type": "markdown",
   "metadata": {},
   "source": [
    "**4. What happens if you try to perform an arithmetic operation between two variables of incompatible data types (e.g., an integer and a string)?**<br>\n",
    "Python will raise TypeError because python doesn't know how to handle operation between mismatched types directly.<br>\n",
    "\"However, if we use the star (*) operator between a string and an integer, it will repeat the string value the number of times specified by the integer.\""
   ]
  },
  {
   "cell_type": "code",
   "execution_count": 3,
   "metadata": {},
   "outputs": [
    {
     "ename": "TypeError",
     "evalue": "can only concatenate str (not \"int\") to str",
     "output_type": "error",
     "traceback": [
      "\u001b[1;31m---------------------------------------------------------------------------\u001b[0m",
      "\u001b[1;31mTypeError\u001b[0m                                 Traceback (most recent call last)",
      "Cell \u001b[1;32mIn[3], line 4\u001b[0m\n\u001b[0;32m      2\u001b[0m x \u001b[38;5;241m=\u001b[39m \u001b[38;5;124m'\u001b[39m\u001b[38;5;124mParbat\u001b[39m\u001b[38;5;124m'\u001b[39m\n\u001b[0;32m      3\u001b[0m y \u001b[38;5;241m=\u001b[39m \u001b[38;5;241m36\u001b[39m\n\u001b[1;32m----> 4\u001b[0m \u001b[38;5;28mprint\u001b[39m(\u001b[43mx\u001b[49m\u001b[43m \u001b[49m\u001b[38;5;241;43m+\u001b[39;49m\u001b[43m \u001b[49m\u001b[43my\u001b[49m)\n",
      "\u001b[1;31mTypeError\u001b[0m: can only concatenate str (not \"int\") to str"
     ]
    }
   ],
   "source": [
    "# Example\n",
    "x = 'Parbat'\n",
    "y = 36\n",
    "print(x + y)"
   ]
  },
  {
   "cell_type": "code",
   "execution_count": 4,
   "metadata": {},
   "outputs": [
    {
     "name": "stdout",
     "output_type": "stream",
     "text": [
      "ParbatParbatParbatParbatParbatParbat\n"
     ]
    }
   ],
   "source": [
    "x = 'Parbat'\n",
    "y = 6\n",
    "print(x * y)"
   ]
  },
  {
   "cell_type": "markdown",
   "metadata": {},
   "source": [
    "**5. How would you convert a string '123' to an integer then add 5 to it?**<br>\n",
    "By using int() function:"
   ]
  },
  {
   "cell_type": "code",
   "execution_count": 5,
   "metadata": {},
   "outputs": [
    {
     "name": "stdout",
     "output_type": "stream",
     "text": [
      "128\n"
     ]
    }
   ],
   "source": [
    "s = '123'\n",
    "t = 5\n",
    "print(int(s)+ 5)"
   ]
  },
  {
   "cell_type": "markdown",
   "metadata": {},
   "source": [
    "**6. What is the purpose of the id() function in Python, and how does it relate to variables and memory?** <br>"
   ]
  },
  {
   "cell_type": "markdown",
   "metadata": {},
   "source": [
    "**7. Write a program to print area of circle**"
   ]
  },
  {
   "cell_type": "code",
   "execution_count": 6,
   "metadata": {},
   "outputs": [
    {
     "name": "stdout",
     "output_type": "stream",
     "text": [
      "Area of circle is: 50.24 sq unit.\n"
     ]
    }
   ],
   "source": [
    "pi = 3.14\n",
    "radius = int(input(\"Value of radius:\"))\n",
    "area = pi * radius**2;\n",
    "print(f\"Area of circle is:\", area, \"sq unit.\")"
   ]
  },
  {
   "cell_type": "markdown",
   "metadata": {},
   "source": [
    "**8. Difference between list and tuples**<br> \n",
    "| S.N | List                               | Tuples                             |\n",
    "|-----|------------------------------------|------------------------------------|\n",
    "| 1   | List are mutable                   | List are immutable                 |\n",
    "| 2   | Defined using square bracktes [ ]  | Define using Parentheses ( )       |\n",
    "| 3   | Slower due to mutability overhead. | Faster due to immutability.        | \n",
    "| 3   | Consume more memeory.              | Consume less memeory.              | \n",
    "| 3   | Example: my_list = [1, 2, 3]       | Example: my_tuple = (1, 2, 3)      | "
   ]
  },
  {
   "cell_type": "markdown",
   "metadata": {},
   "source": [
    "# **2. Conditional Programs**"
   ]
  },
  {
   "cell_type": "markdown",
   "metadata": {},
   "source": [
    "**1. Check Leap Year<br>\n",
    "Write a Python program that asks the user to enter a year and checks whether it is a leap year or not.<br>\n",
    "Hint: A leap year is divisible by 4 but not divisible by 100 unless it is also divisible by 400.**"
   ]
  },
  {
   "cell_type": "code",
   "execution_count": 8,
   "metadata": {},
   "outputs": [
    {
     "name": "stdout",
     "output_type": "stream",
     "text": [
      "The given year is leap year.\n"
     ]
    }
   ],
   "source": [
    "year = int(input(\"Enter the year: \"))\n",
    "if (year % 4 == 0 and year % 100 != 0) or year % 400 ==0 :\n",
    "    print(\"The given year is leap year.\")\n",
    "else:\n",
    "    print(\"The given year is not a leap year.\")"
   ]
  },
  {
   "cell_type": "markdown",
   "metadata": {},
   "source": [
    "**2. Check Mulitple of 10. <br>\n",
    "Write a python program that ask the user to enter a number and checks whether the number is a mulitple of 10.**"
   ]
  },
  {
   "cell_type": "code",
   "execution_count": 9,
   "metadata": {},
   "outputs": [
    {
     "name": "stdout",
     "output_type": "stream",
     "text": [
      "Given number is not multiple of 10.\n"
     ]
    }
   ],
   "source": [
    "number = int(input(\"What's your number: \"))\n",
    "if (number % 10 == 0):\n",
    "    print(\"Given number is multiple of 10.\")\n",
    "else:\n",
    "    print(\"Given number is not multiple of 10.\")"
   ]
  },
  {
   "cell_type": "markdown",
   "metadata": {},
   "source": [
    "**3. Check Eligiblity to Vote.<br>\n",
    "Write a Python program that ask the user to enter their age and checks if they are eligible to vote (age 18 or older).**"
   ]
  },
  {
   "cell_type": "code",
   "execution_count": 10,
   "metadata": {},
   "outputs": [
    {
     "name": "stdout",
     "output_type": "stream",
     "text": [
      "You are eligible to vote.\n"
     ]
    }
   ],
   "source": [
    "age = int(input(\"Enter your age: \"))\n",
    "if age >= 18:\n",
    "    print(\"You are eligible to vote.\")\n",
    "else:\n",
    "    print(\"You are not elibible to vote\")\n"
   ]
  },
  {
   "cell_type": "markdown",
   "metadata": {},
   "source": [
    "**4. Check Pass or Fail. <br>\n",
    "Write a Python program that asks the user to enter their marks and checks if they passed or failed. (Assume the passing marks are 40.)**"
   ]
  },
  {
   "cell_type": "code",
   "execution_count": 12,
   "metadata": {},
   "outputs": [
    {
     "name": "stdout",
     "output_type": "stream",
     "text": [
      "You have passed the exam.\n"
     ]
    }
   ],
   "source": [
    "marks = int(input(\"Enter your marks: \"))\n",
    "if marks >= 40:\n",
    "    print(\"You have passed the exam.\")\n",
    "else: \n",
    "    print(\"You failed the exam.\")"
   ]
  },
  {
   "cell_type": "markdown",
   "metadata": {},
   "source": [
    "**5. Compare Two Numbers.<br>\n",
    "Write a Python program that takes two number as input and prints whether the first number is greater than, less than or wquatl to the rest of numbers.**"
   ]
  },
  {
   "cell_type": "code",
   "execution_count": 13,
   "metadata": {},
   "outputs": [
    {
     "name": "stdout",
     "output_type": "stream",
     "text": [
      "Frist number is less that second number.\n"
     ]
    }
   ],
   "source": [
    "num1 = int(input(\"Enter first number: \"))\n",
    "num2 = int(input(\"Enter second number: \"))\n",
    "if num1 > num2:\n",
    "    print(\"First number is greather than second number.\")\n",
    "elif num1 < num2:\n",
    "    print(\"Frist number is less that second number.\")\n",
    "else:\n",
    "    print(\"First number is equal to second number.\")"
   ]
  },
  {
   "cell_type": "markdown",
   "metadata": {},
   "source": [
    "# **Python Loops**"
   ]
  },
  {
   "cell_type": "markdown",
   "metadata": {},
   "source": [
    "**Print Number in reverse order <br>\n",
    "Write a program to print all number form n to 1 using a loop.**"
   ]
  },
  {
   "cell_type": "code",
   "execution_count": 14,
   "metadata": {},
   "outputs": [
    {
     "name": "stdout",
     "output_type": "stream",
     "text": [
      "5\n",
      "4\n",
      "3\n",
      "2\n",
      "1\n"
     ]
    }
   ],
   "source": [
    "#using for loop \n",
    "num = int(input(\"Enter any number: \"))\n",
    "for num in range(num, 0, -1):\n",
    "    print(num)"
   ]
  },
  {
   "cell_type": "markdown",
   "metadata": {},
   "source": [
    "**Sum of Odd Numbers.<br>\n",
    "Write a program to calculate the sum of all odd numbers between 1 and n.**"
   ]
  },
  {
   "cell_type": "code",
   "execution_count": 15,
   "metadata": {},
   "outputs": [
    {
     "name": "stdout",
     "output_type": "stream",
     "text": [
      "Sum of all odd numbers between 1 and 45 is 529\n"
     ]
    }
   ],
   "source": [
    "#using while loop\n",
    "n = int(input(\"Enter a positive number: \"))\n",
    "odd_sum = 0\n",
    "i = 1 #start from 1, which is the first odd number\n",
    "\n",
    "while i <= n:\n",
    "    if i % 2 != 0: #check if the number is odd\n",
    "        odd_sum += i #add the odd number to the sum \n",
    "    i += 1 #increment i to check the next number\n",
    "\n",
    "print(f\"Sum of all odd numbers between 1 and\",n ,\"is\", odd_sum)"
   ]
  },
  {
   "cell_type": "markdown",
   "metadata": {},
   "source": [
    "**Multiplication Table <br>\n",
    "Write a program to print the multiplication table of a given number n.**"
   ]
  },
  {
   "cell_type": "code",
   "execution_count": 17,
   "metadata": {},
   "outputs": [
    {
     "name": "stdout",
     "output_type": "stream",
     "text": [
      "6 * 1 = 6\n",
      "6 * 2 = 12\n",
      "6 * 3 = 18\n",
      "6 * 4 = 24\n",
      "6 * 5 = 30\n",
      "6 * 6 = 36\n",
      "6 * 7 = 42\n",
      "6 * 8 = 48\n",
      "6 * 9 = 54\n",
      "6 * 10 = 60\n"
     ]
    }
   ],
   "source": [
    "n = int(input(\"Enter any number\"))\n",
    "i = 1 #start form 1\n",
    "\n",
    "while i <= 10: \n",
    "    print(n, '*', i, '=', n*i)\n",
    "    i += 1 #increment i \n"
   ]
  },
  {
   "cell_type": "markdown",
   "metadata": {},
   "source": [
    "**Count Divisors<br>\n",
    "Write a program to count how many numbers between 1 and n are divisible by k.**"
   ]
  },
  {
   "cell_type": "code",
   "execution_count": 19,
   "metadata": {},
   "outputs": [
    {
     "name": "stdout",
     "output_type": "stream",
     "text": [
      "Total numbers between 1 and 4 that are divisible by 3 is 1\n"
     ]
    }
   ],
   "source": [
    "n = int(input(\"Enter any positvie number: \"))\n",
    "k = int(input(\"Enter the divisor positvie number: \"))\n",
    "count = 0\n",
    "\n",
    "for i in range(1, n+1):\n",
    "    if i % k == 0:\n",
    "        count += 1\n",
    "\n",
    "print(\"Total numbers between 1 and\", n, \"that are divisible by\", k, \"is\", count)"
   ]
  },
  {
   "cell_type": "markdown",
   "metadata": {},
   "source": [
    "**Factorial of Number<br>\n",
    "Write a program to calculate the factorial of a number n. **"
   ]
  },
  {
   "cell_type": "code",
   "execution_count": 20,
   "metadata": {},
   "outputs": [
    {
     "name": "stdout",
     "output_type": "stream",
     "text": [
      "The factorial of the 6 is 720\n"
     ]
    }
   ],
   "source": [
    "n = int(input(\"Enter any positive number: \"))\n",
    "fact = 1\n",
    "\n",
    "for i in range(1, n+1):\n",
    "    fact = fact*i\n",
    "\n",
    "print(\"The factorial of the\", n, \"is\", fact)"
   ]
  },
  {
   "cell_type": "markdown",
   "metadata": {},
   "source": [
    "**Print a Pyramid <br>\n",
    "Write a program to print a pyramid of stars with n rows.**"
   ]
  },
  {
   "cell_type": "code",
   "execution_count": null,
   "metadata": {},
   "outputs": [
    {
     "name": "stdout",
     "output_type": "stream",
     "text": [
      "     *\n",
      "    * *\n",
      "   * * *\n",
      "  * * * *\n",
      " * * * * *\n"
     ]
    }
   ],
   "source": [
    "n = int(input(\"Enter the numbers of rows you want: \"))\n",
    "\n",
    "for i in range(1, n+1):\n",
    "    # for aligntment \n",
    "    # Print spaces for alignment\n",
    "    # Spaces for Centering: \" \" * (n - i) creates the leading spaces needed to center the stars for each row.\n",
    "    # Using end=\"\" allows you to continue printing on the same line after printing spaces, ensuring proper alignment of the pyramid.\n",
    "    # Without end=\"\", every print() would move to a new line immediately after printing spaces or stars.\n",
    "    print(\" \" * (n - i), end=\"\")\n",
    "    # print stars with spaces between them\n",
    "    print (\" *\" * i)"
   ]
  },
  {
   "cell_type": "markdown",
   "metadata": {},
   "source": [
    "**Count vowels in a String<br>\n",
    "Write a program to count the number of vowels in given string.**"
   ]
  },
  {
   "cell_type": "code",
   "execution_count": 24,
   "metadata": {},
   "outputs": [
    {
     "name": "stdout",
     "output_type": "stream",
     "text": [
      "The numbers of vowels in parbat magar is 4\n"
     ]
    }
   ],
   "source": [
    "x = input(\"Enter any words\")\n",
    "\n",
    "# define a set of vowels\n",
    "vowels = \"aeiouAEIOU\"\n",
    "count = 0\n",
    "\n",
    "# loop through every character in string\n",
    "for char in x:\n",
    "    if char in vowels:\n",
    "        count += 1\n",
    "\n",
    "print(\"The numbers of vowels in\", x, \"is\", count)\n"
   ]
  },
  {
   "cell_type": "markdown",
   "metadata": {},
   "source": [
    "**Write a program that prints numbers from 1 to n.**"
   ]
  },
  {
   "cell_type": "code",
   "execution_count": 25,
   "metadata": {},
   "outputs": [
    {
     "name": "stdout",
     "output_type": "stream",
     "text": [
      "1\n",
      "2\n",
      "3\n",
      "4\n",
      "5\n"
     ]
    }
   ],
   "source": [
    "n = int(input(\"Enter a number: \"))\n",
    "\n",
    "for i in range(1, n+1):\n",
    "    print(i)"
   ]
  },
  {
   "cell_type": "markdown",
   "metadata": {},
   "source": [
    "**For multiples of 3, print \"Fizz\".<br>\n",
    "For multiples of 5, print \"Buzz\".<br>\n",
    "For multiples of both, print \"FizzBuzz\".**"
   ]
  },
  {
   "cell_type": "code",
   "execution_count": 26,
   "metadata": {},
   "outputs": [
    {
     "name": "stdout",
     "output_type": "stream",
     "text": [
      "FizzBuzz\n"
     ]
    }
   ],
   "source": [
    "n = int(input(\"Enter a number: \"))\n",
    "\n",
    "if  (n % 3 == 0) and (n % 5 == 0):\n",
    "    print(\"FizzBuzz\")\n",
    "elif n % 5 == 0:\n",
    "    print(\"Buzz\")\n",
    "elif n % 3 == 0:\n",
    "    print(\"Fizz\")\n",
    "else:\n",
    "    print(\"Number is neither multiples of 3 nor 5.\")"
   ]
  },
  {
   "cell_type": "markdown",
   "metadata": {},
   "source": [
    "**Palindrome Numbers<br>\n",
    "Write a program to check if a number is a palindrome. Use a loop to reverse the number.**"
   ]
  },
  {
   "cell_type": "code",
   "execution_count": 28,
   "metadata": {},
   "outputs": [
    {
     "name": "stdout",
     "output_type": "stream",
     "text": [
      "1234321 is a palindrome.\n"
     ]
    }
   ],
   "source": [
    "# Input number from the user\n",
    "num = int(input(\"Enter a number: \"))\n",
    "\n",
    "# Store the original number to compare later\n",
    "original_num = num\n",
    "\n",
    "# Variable to store the reversed number\n",
    "reversed_num = 0\n",
    "\n",
    "# Loop to reverse the number\n",
    "while num > 0:\n",
    "    # Get the last digit of the number\n",
    "    last_digit = num % 10\n",
    "    \n",
    "    # Add the last digit to the reversed number\n",
    "    reversed_num = reversed_num * 10 + last_digit\n",
    "    \n",
    "    # Remove the last digit from the original number\n",
    "    num = num // 10\n",
    "\n",
    "# Check if the reversed number is equal to the original number\n",
    "if original_num == reversed_num:\n",
    "    print(f\"{original_num} is a palindrome.\")\n",
    "else:\n",
    "    print(f\"{original_num} is not a palindrome.\")\n"
   ]
  },
  {
   "cell_type": "markdown",
   "metadata": {},
   "source": [
    "**Fibonacci Sequence<br>\n",
    "Write a program to generate the first n terms of the Fibonacci sequence.**"
   ]
  },
  {
   "cell_type": "code",
   "execution_count": 29,
   "metadata": {},
   "outputs": [
    {
     "name": "stdout",
     "output_type": "stream",
     "text": [
      "Fibonacci Series: 0 1 1 2 3 5 8 13 21 "
     ]
    }
   ],
   "source": [
    "num = int(input(\"Enter a number to generate Fibonacci sequence: \"))\n",
    "\n",
    "# Initialize the first two terms of the Fibonacci sequence\n",
    "n1, n2 = 0, 1\n",
    "\n",
    "print(\"Fibonacci Series:\", end=\" \")  # Use end=\" \" to keep the output on the same line, separated by spaces\n",
    "\n",
    "# Use a loop to generate and print the Fibonacci sequence\n",
    "for i in range(num):\n",
    "    if i == 0:  # For the first term\n",
    "        print(n1, end=\" \")\n",
    "    elif i == 1:  # For the second term\n",
    "        print(n2, end=\" \")\n",
    "    else:\n",
    "        # Calculate the next term\n",
    "        n3 = n1 + n2  \n",
    "        # Update n1 and n2\n",
    "        n1 = n2\n",
    "        n2 = n3\n",
    "        print(n3, end=\" \")"
   ]
  },
  {
   "cell_type": "code",
   "execution_count": null,
   "metadata": {},
   "outputs": [],
   "source": []
  }
 ],
 "metadata": {
  "kernelspec": {
   "display_name": "Python 3",
   "language": "python",
   "name": "python3"
  },
  "language_info": {
   "codemirror_mode": {
    "name": "ipython",
    "version": 3
   },
   "file_extension": ".py",
   "mimetype": "text/x-python",
   "name": "python",
   "nbconvert_exporter": "python",
   "pygments_lexer": "ipython3",
   "version": "3.13.0"
  }
 },
 "nbformat": 4,
 "nbformat_minor": 2
}
